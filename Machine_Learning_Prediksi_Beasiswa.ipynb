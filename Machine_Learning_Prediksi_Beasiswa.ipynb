{
  "nbformat": 4,
  "nbformat_minor": 0,
  "metadata": {
    "colab": {
      "name": "Machine Learning - Prediksi Beasiswa.ipynb",
      "provenance": [],
      "collapsed_sections": [],
      "authorship_tag": "ABX9TyPiIYMUg0C3tl/tc+6kVOzn",
      "include_colab_link": true
    },
    "kernelspec": {
      "name": "python3",
      "display_name": "Python 3"
    }
  },
  "cells": [
    {
      "cell_type": "markdown",
      "metadata": {
        "id": "view-in-github",
        "colab_type": "text"
      },
      "source": [
        "<a href=\"https://colab.research.google.com/github/vegaangga/Prediksi-Beasiswa-Menggunakan-KNN/blob/main/Machine_Learning_Prediksi_Beasiswa.ipynb\" target=\"_parent\"><img src=\"https://colab.research.google.com/assets/colab-badge.svg\" alt=\"Open In Colab\"/></a>"
      ]
    },
    {
      "cell_type": "markdown",
      "metadata": {
        "id": "aCvqvEZ0OE3O"
      },
      "source": [
        "## Classification with KNN"
      ]
    },
    {
      "cell_type": "code",
      "metadata": {
        "id": "zEJL6loLms8T"
      },
      "source": [
        "## Kelulusan student exchange\n",
        "import numpy as np\n",
        "\n",
        "X_train = np.array([\n",
        "    [2.75, 3.05, 2.65, 375, 0.6, 0],\n",
        "    [4, 3.8,3.9,360,1,1],\n",
        "    [3, 3.35, 3.15, 395, 0.85,1],\n",
        "    [2.05, 3, 2.75, 350, 0.5,0],\n",
        "    [2.95, 3.5, 3, 365, 0.5,1],\n",
        "    [3.5, 3, 3.35, 420, 0.75,0],\n",
        "    [3.25, 2.8, 3, 355, 0.8,1],\n",
        "    [4, 3.5, 3.75,400,0.95,1],\n",
        "    [2.5, 3, 3.25, 450,1,1],\n",
        "    [3.75, 3, 3.6, 351, 0.85,0]\n",
        "])\n",
        "\n",
        "y_train = ['lulus',\n",
        "           'tidak',\n",
        "           'lulus',\n",
        "           'tidak',\n",
        "           'tidak',\n",
        "           'lulus',\n",
        "           'tidak', \n",
        "           'lulus',\n",
        "           'lulus',\n",
        "           'tidak']"
      ],
      "execution_count": null,
      "outputs": []
    },
    {
      "cell_type": "code",
      "metadata": {
        "colab": {
          "base_uri": "https://localhost:8080/"
        },
        "id": "iVWDoXXcQc8C",
        "outputId": "8fca2c66-b7ce-44c1-a898-36ea89c62f7a"
      },
      "source": [
        "## meghitung data uji 1\n",
        "x = np.array([[3.65, 3.8,3.75,380,1,0]])\n",
        "\n",
        "distances = np.sqrt(np.sum((X_train - x)**2, axis=1))\n",
        "distances"
      ],
      "execution_count": null,
      "outputs": [
        {
          "output_type": "execute_result",
          "data": {
            "text/plain": [
              "array([ 5.26711496, 20.02860454, 15.06676807, 30.07407521, 15.07953912,\n",
              "       40.01106097, 25.05518908, 20.03035197, 70.02294267, 29.01198028])"
            ]
          },
          "metadata": {
            "tags": []
          },
          "execution_count": 49
        }
      ]
    },
    {
      "cell_type": "code",
      "metadata": {
        "colab": {
          "base_uri": "https://localhost:8080/"
        },
        "id": "m8Z-eCxfQe4Z",
        "outputId": "4b41e9cb-9a2e-4ad7-9319-bb81f92828f2"
      },
      "source": [
        "# hitung tentangga k=3\n",
        "nearest_neighbor_indices = distances.argsort()[:3]\n",
        "nearest_neighbor_genders = np.take(y_train, nearest_neighbor_indices)\n",
        "nearest_neighbor_genders"
      ],
      "execution_count": null,
      "outputs": [
        {
          "output_type": "execute_result",
          "data": {
            "text/plain": [
              "array(['lulus', 'lulus', 'tidak'], dtype='<U5')"
            ]
          },
          "metadata": {
            "tags": []
          },
          "execution_count": 50
        }
      ]
    },
    {
      "cell_type": "code",
      "metadata": {
        "colab": {
          "base_uri": "https://localhost:8080/",
          "height": 35
        },
        "id": "c5Sw5-ttjCSw",
        "outputId": "96bbb670-f85a-4631-e72e-382d3553a0ea"
      },
      "source": [
        "## ambil dominan\n",
        "from collections import Counter\n",
        "b = Counter(np.take(y_train, distances.argsort()[:3]))\n",
        "b.most_common(1)[0][0]"
      ],
      "execution_count": null,
      "outputs": [
        {
          "output_type": "execute_result",
          "data": {
            "application/vnd.google.colaboratory.intrinsic+json": {
              "type": "string"
            },
            "text/plain": [
              "'lulus'"
            ]
          },
          "metadata": {
            "tags": []
          },
          "execution_count": 51
        }
      ]
    },
    {
      "cell_type": "code",
      "metadata": {
        "colab": {
          "base_uri": "https://localhost:8080/"
        },
        "id": "_xkBCav6ri5X",
        "outputId": "693cb12f-6362-4b41-f6c8-13e5a355bbb9"
      },
      "source": [
        "# hitung tentangga k=5\n",
        "nearest_neighbor_indices = distances.argsort()[:5]\n",
        "nearest_neighbor_genders = np.take(y_train, nearest_neighbor_indices)\n",
        "nearest_neighbor_genders"
      ],
      "execution_count": null,
      "outputs": [
        {
          "output_type": "execute_result",
          "data": {
            "text/plain": [
              "array(['lulus', 'lulus', 'tidak', 'tidak', 'lulus'], dtype='<U5')"
            ]
          },
          "metadata": {
            "tags": []
          },
          "execution_count": 25
        }
      ]
    },
    {
      "cell_type": "code",
      "metadata": {
        "colab": {
          "base_uri": "https://localhost:8080/",
          "height": 35
        },
        "id": "36zmAXOAQj6T",
        "outputId": "02e2be9b-d039-47ab-d8d0-aa90641cf0d8"
      },
      "source": [
        "## ambil dominan\n",
        "from collections import Counter\n",
        "b = Counter(np.take(y_train, distances.argsort()[:5]))\n",
        "b.most_common(1)[0][0]"
      ],
      "execution_count": null,
      "outputs": [
        {
          "output_type": "execute_result",
          "data": {
            "application/vnd.google.colaboratory.intrinsic+json": {
              "type": "string"
            },
            "text/plain": [
              "'lulus'"
            ]
          },
          "metadata": {
            "tags": []
          },
          "execution_count": 27
        }
      ]
    },
    {
      "cell_type": "markdown",
      "metadata": {
        "id": "6AHdQD4SeT9n"
      },
      "source": [
        "Data Uji 2"
      ]
    },
    {
      "cell_type": "code",
      "metadata": {
        "colab": {
          "base_uri": "https://localhost:8080/"
        },
        "id": "4RPn-di6ecBw",
        "outputId": "c0610f9f-5016-41d8-9007-f0182475ab43"
      },
      "source": [
        "## meghitung jarak euclidean data uji 2\n",
        "x = np.array([[2.4, 2.15,2.25,300,0.55,0]])\n",
        "\n",
        "distances = np.sqrt(np.sum((X_train - x)**2, axis=1))\n",
        "distances"
      ],
      "execution_count": null,
      "outputs": [
        {
          "output_type": "execute_result",
          "data": {
            "text/plain": [
              "array([ 75.00729964,  60.07668017,  95.01947169,  50.0109738 ,\n",
              "        65.02837842, 120.01325968,  55.02517606, 100.03895491,\n",
              "       150.00978301,  51.04368227])"
            ]
          },
          "metadata": {
            "tags": []
          },
          "execution_count": 52
        }
      ]
    },
    {
      "cell_type": "code",
      "metadata": {
        "colab": {
          "base_uri": "https://localhost:8080/"
        },
        "id": "vt9QRvM_ee_h",
        "outputId": "13aaa953-2c97-4474-cd76-6277ee7051a1"
      },
      "source": [
        "# mengurutkan jarak secara ascending k=3\n",
        "nearest_neighbor_indices = distances.argsort()[:3]\n",
        "nearest_neighbor_genders = np.take(y_train, nearest_neighbor_indices)\n",
        "nearest_neighbor_genders"
      ],
      "execution_count": null,
      "outputs": [
        {
          "output_type": "execute_result",
          "data": {
            "text/plain": [
              "array(['tidak', 'tidak', 'tidak'], dtype='<U5')"
            ]
          },
          "metadata": {
            "tags": []
          },
          "execution_count": 55
        }
      ]
    },
    {
      "cell_type": "code",
      "metadata": {
        "colab": {
          "base_uri": "https://localhost:8080/",
          "height": 35
        },
        "id": "kUKfAI7rekVq",
        "outputId": "8d2ebce1-9ce4-41b6-cc42-77e821a809b2"
      },
      "source": [
        "## ambil dominan\n",
        "from collections import Counter\n",
        "b = Counter(np.take(y_train, distances.argsort()[:3]))\n",
        "b.most_common(1)[0][0]"
      ],
      "execution_count": null,
      "outputs": [
        {
          "output_type": "execute_result",
          "data": {
            "application/vnd.google.colaboratory.intrinsic+json": {
              "type": "string"
            },
            "text/plain": [
              "'tidak'"
            ]
          },
          "metadata": {
            "tags": []
          },
          "execution_count": 56
        }
      ]
    },
    {
      "cell_type": "code",
      "metadata": {
        "colab": {
          "base_uri": "https://localhost:8080/"
        },
        "id": "rSWyrPm6fast",
        "outputId": "a50161fd-7d08-41d0-cf07-e2f72d30319c"
      },
      "source": [
        "# hitung tentangga k=5\n",
        "nearest_neighbor_indices = distances.argsort()[:5]\n",
        "nearest_neighbor_genders = np.take(y_train, nearest_neighbor_indices)\n",
        "nearest_neighbor_genders"
      ],
      "execution_count": null,
      "outputs": [
        {
          "output_type": "execute_result",
          "data": {
            "text/plain": [
              "array(['tidak', 'tidak', 'tidak', 'tidak', 'tidak'], dtype='<U5')"
            ]
          },
          "metadata": {
            "tags": []
          },
          "execution_count": 57
        }
      ]
    },
    {
      "cell_type": "code",
      "metadata": {
        "colab": {
          "base_uri": "https://localhost:8080/",
          "height": 35
        },
        "id": "aT8a_30zfdj2",
        "outputId": "b931e907-b5b0-4b5c-f4ce-f4a02fb5c511"
      },
      "source": [
        "## ambil dominan\n",
        "from collections import Counter\n",
        "b = Counter(np.take(y_train, distances.argsort()[:5]))\n",
        "b.most_common(1)[0][0]"
      ],
      "execution_count": null,
      "outputs": [
        {
          "output_type": "execute_result",
          "data": {
            "application/vnd.google.colaboratory.intrinsic+json": {
              "type": "string"
            },
            "text/plain": [
              "'tidak'"
            ]
          },
          "metadata": {
            "tags": []
          },
          "execution_count": 58
        }
      ]
    },
    {
      "cell_type": "markdown",
      "metadata": {
        "id": "bCXf2eezfQyF"
      },
      "source": [
        "Data Uji 3"
      ]
    },
    {
      "cell_type": "code",
      "metadata": {
        "colab": {
          "base_uri": "https://localhost:8080/"
        },
        "id": "hn9gdmWBfU4S",
        "outputId": "76593229-f187-4895-dbe4-80e47af25257"
      },
      "source": [
        "## meghitung data uji 3\n",
        "x = np.array([[3.85, 3.65,3.9,380,0.7,1]])\n",
        "\n",
        "distances = np.sqrt(np.sum((X_train - x)**2, axis=1))\n",
        "distances"
      ],
      "execution_count": null,
      "outputs": [
        {
          "output_type": "execute_result",
          "data": {
            "text/plain": [
              "array([ 5.39837939, 20.00337472, 15.04651122, 30.10024917, 15.05597888,\n",
              "       40.02311832, 25.03802109, 20.00324974, 70.01969366, 29.02662571])"
            ]
          },
          "metadata": {
            "tags": []
          },
          "execution_count": 60
        }
      ]
    },
    {
      "cell_type": "code",
      "metadata": {
        "colab": {
          "base_uri": "https://localhost:8080/"
        },
        "id": "mmguCBhbfnOw",
        "outputId": "26798c15-3555-4c10-8e74-b4ba7fb3a8e0"
      },
      "source": [
        "# hitung tentangga k=3\n",
        "nearest_neighbor_indices = distances.argsort()[:3]\n",
        "nearest_neighbor_genders = np.take(y_train, nearest_neighbor_indices)\n",
        "nearest_neighbor_genders"
      ],
      "execution_count": null,
      "outputs": [
        {
          "output_type": "execute_result",
          "data": {
            "text/plain": [
              "array(['lulus', 'lulus', 'tidak'], dtype='<U5')"
            ]
          },
          "metadata": {
            "tags": []
          },
          "execution_count": 61
        }
      ]
    },
    {
      "cell_type": "code",
      "metadata": {
        "colab": {
          "base_uri": "https://localhost:8080/",
          "height": 35
        },
        "id": "K9vNkdMIfpzK",
        "outputId": "85b18738-5a6e-44ff-b192-4100e652af1e"
      },
      "source": [
        "## ambil dominan\n",
        "from collections import Counter\n",
        "b = Counter(np.take(y_train, distances.argsort()[:3]))\n",
        "b.most_common(1)[0][0]"
      ],
      "execution_count": null,
      "outputs": [
        {
          "output_type": "execute_result",
          "data": {
            "application/vnd.google.colaboratory.intrinsic+json": {
              "type": "string"
            },
            "text/plain": [
              "'lulus'"
            ]
          },
          "metadata": {
            "tags": []
          },
          "execution_count": 62
        }
      ]
    },
    {
      "cell_type": "code",
      "metadata": {
        "colab": {
          "base_uri": "https://localhost:8080/"
        },
        "id": "rlVDLQXcfnYq",
        "outputId": "7a56e26b-427d-48ab-fd67-3b89f8652ede"
      },
      "source": [
        "# hitung tentangga k=5\n",
        "nearest_neighbor_indices = distances.argsort()[:5]\n",
        "nearest_neighbor_genders = np.take(y_train, nearest_neighbor_indices)\n",
        "nearest_neighbor_genders"
      ],
      "execution_count": null,
      "outputs": [
        {
          "output_type": "execute_result",
          "data": {
            "text/plain": [
              "array(['lulus', 'lulus', 'tidak', 'lulus', 'tidak'], dtype='<U5')"
            ]
          },
          "metadata": {
            "tags": []
          },
          "execution_count": 63
        }
      ]
    },
    {
      "cell_type": "code",
      "metadata": {
        "colab": {
          "base_uri": "https://localhost:8080/",
          "height": 35
        },
        "id": "5WGuXHhDfqA9",
        "outputId": "43e2bd05-4c77-4e6c-efeb-dd901e5d340a"
      },
      "source": [
        "## ambil dominan\n",
        "from collections import Counter\n",
        "b = Counter(np.take(y_train, distances.argsort()[:5]))\n",
        "b.most_common(1)[0][0]"
      ],
      "execution_count": null,
      "outputs": [
        {
          "output_type": "execute_result",
          "data": {
            "application/vnd.google.colaboratory.intrinsic+json": {
              "type": "string"
            },
            "text/plain": [
              "'lulus'"
            ]
          },
          "metadata": {
            "tags": []
          },
          "execution_count": 64
        }
      ]
    },
    {
      "cell_type": "markdown",
      "metadata": {
        "id": "Qpb_iZv1gBl3"
      },
      "source": [
        "Menghitung akurasi"
      ]
    },
    {
      "cell_type": "code",
      "metadata": {
        "id": "Z8wsEUvzOiyn"
      },
      "source": [
        "## Contoh 5\n",
        "import numpy as np\n",
        "import matplotlib.pyplot as plt\n",
        "\n",
        "X_train = np.array([\n",
        "    [2.75, 3.05, 2.65, 375, 0.6, 0],\n",
        "    [4, 3.8,3.9,360,1,1],\n",
        "    [3, 3.35, 3.15, 395, 0.85,1],\n",
        "    [2.05, 3, 2.75, 350, 0.5,0],\n",
        "    [2.95, 3.5, 3, 365, 0.5,1],\n",
        "    [3.5, 3, 3.35, 420, 0.75,0],\n",
        "    [3.25, 2.8, 3, 355, 0.8,1],\n",
        "    [4, 3.5, 3.75,400,0.95,1],\n",
        "    [2.5, 3, 3.25, 450,1,1],\n",
        "    [3.75, 3, 3.6, 351, 0.85,0]\n",
        "])\n",
        "\n",
        "y_train = ['lulus',\n",
        "           'tidak',\n",
        "           'lulus',\n",
        "           'tidak',\n",
        "           'tidak',\n",
        "           'lulus',\n",
        "           'tidak', \n",
        "           'lulus',\n",
        "           'lulus',\n",
        "           'tidak']\n"
      ],
      "execution_count": null,
      "outputs": []
    },
    {
      "cell_type": "code",
      "metadata": {
        "colab": {
          "base_uri": "https://localhost:8080/"
        },
        "id": "qi5DM_59OfaA",
        "outputId": "f2dc8726-5871-40f7-90bd-dd80e8706ab0"
      },
      "source": [
        "## Contoh 6\n",
        "from sklearn.preprocessing import LabelBinarizer\n",
        "from sklearn.neighbors import KNeighborsClassifier\n",
        "\n",
        "lb = LabelBinarizer()\n",
        "y_train_binarized = lb.fit_transform(y_train)\n",
        "y_train_binarized"
      ],
      "execution_count": null,
      "outputs": [
        {
          "output_type": "execute_result",
          "data": {
            "text/plain": [
              "array([[0],\n",
              "       [1],\n",
              "       [0],\n",
              "       [1],\n",
              "       [1],\n",
              "       [0],\n",
              "       [1],\n",
              "       [0],\n",
              "       [0],\n",
              "       [1]])"
            ]
          },
          "metadata": {
            "tags": []
          },
          "execution_count": 66
        }
      ]
    },
    {
      "cell_type": "code",
      "metadata": {
        "colab": {
          "base_uri": "https://localhost:8080/"
        },
        "id": "oETuqp1dQ0I8",
        "outputId": "f8c0ac53-a164-404f-a666-270ff1025b20"
      },
      "source": [
        "K = 3\n",
        "clf = KNeighborsClassifier(n_neighbors=K)\n",
        "clf.fit(X_train, y_train_binarized.reshape(-1))\n",
        "prediction_binarized = clf.predict(np.array([3.65, 3.8,3.75,380,1]).reshape(1, -1))[0]\n",
        "predicted_label = lb.inverse_transform(prediction_binarized)\n",
        "predicted_label"
      ],
      "execution_count": null,
      "outputs": [
        {
          "output_type": "execute_result",
          "data": {
            "text/plain": [
              "array(['lulus'], dtype='<U5')"
            ]
          },
          "metadata": {
            "tags": []
          },
          "execution_count": 67
        }
      ]
    },
    {
      "cell_type": "code",
      "metadata": {
        "colab": {
          "base_uri": "https://localhost:8080/"
        },
        "id": "mTbpyGnDRJJx",
        "outputId": "e76453ca-de2c-44a9-cbcd-d65d5be5ce83"
      },
      "source": [
        "X_test = np.array([\n",
        "    [3.65, 3.8,3.75,380,1],\n",
        "    [2.4, 2.15,2.25,300,0.55],\n",
        "    [3.85, 3.65,3.9,380,0.7],\n",
        "])\n",
        "y_test = ['lulus', 'tidak', 'tidak']\n",
        "y_test_binarized = lb.transform(y_test)\n",
        "print('Binarized labels: %s' % y_test_binarized.T[0])\n",
        "\n",
        "predictions_binarized = clf.predict(X_test)\n",
        "print('Binarized predictions: %s' % predictions_binarized)\n",
        "print('Predicted labels: %s' % lb.inverse_transform(predictions_binarized))"
      ],
      "execution_count": null,
      "outputs": [
        {
          "output_type": "stream",
          "text": [
            "Binarized labels: [0 1 1]\n",
            "Binarized predictions: [0 1 0]\n",
            "Predicted labels: ['lulus' 'tidak' 'lulus']\n"
          ],
          "name": "stdout"
        }
      ]
    },
    {
      "cell_type": "code",
      "metadata": {
        "colab": {
          "base_uri": "https://localhost:8080/"
        },
        "id": "4SENK6IkRd0K",
        "outputId": "7ce15442-5b6c-4537-c0dd-a5975aee633f"
      },
      "source": [
        "from sklearn.metrics import accuracy_score\n",
        "print('Accuracy: %s' % accuracy_score(y_test_binarized, predictions_binarized))"
      ],
      "execution_count": null,
      "outputs": [
        {
          "output_type": "stream",
          "text": [
            "Accuracy: 0.6666666666666666\n"
          ],
          "name": "stdout"
        }
      ]
    },
    {
      "cell_type": "code",
      "metadata": {
        "colab": {
          "base_uri": "https://localhost:8080/"
        },
        "id": "gzMDBk2MRqG5",
        "outputId": "d3419237-808c-4379-e2e7-347452359f0b"
      },
      "source": [
        "from sklearn.metrics import precision_score\n",
        "print('Precision: %s' % precision_score(y_test_binarized, predictions_binarized))"
      ],
      "execution_count": null,
      "outputs": [
        {
          "output_type": "stream",
          "text": [
            "Precision: 1.0\n"
          ],
          "name": "stdout"
        }
      ]
    },
    {
      "cell_type": "code",
      "metadata": {
        "colab": {
          "base_uri": "https://localhost:8080/"
        },
        "id": "qZn-iY07RvsP",
        "outputId": "73d68d29-7b13-48aa-edfc-ce1253de03a8"
      },
      "source": [
        "from sklearn.metrics import recall_score\n",
        "print('Recall: %s' % recall_score(y_test_binarized, predictions_binarized))"
      ],
      "execution_count": null,
      "outputs": [
        {
          "output_type": "stream",
          "text": [
            "Recall: 0.5\n"
          ],
          "name": "stdout"
        }
      ]
    },
    {
      "cell_type": "code",
      "metadata": {
        "colab": {
          "base_uri": "https://localhost:8080/"
        },
        "id": "LjEBiSdSR1QW",
        "outputId": "7099852d-579d-4e84-ffb0-0efd653cbead"
      },
      "source": [
        "from sklearn.metrics import f1_score\n",
        "print('F1 score: %s' % f1_score(y_test_binarized, predictions_binarized))\n"
      ],
      "execution_count": null,
      "outputs": [
        {
          "output_type": "stream",
          "text": [
            "F1 score: 0.6666666666666666\n"
          ],
          "name": "stdout"
        }
      ]
    },
    {
      "cell_type": "code",
      "metadata": {
        "colab": {
          "base_uri": "https://localhost:8080/"
        },
        "id": "0nB_bVZASBWi",
        "outputId": "8d5fc888-c8a4-40f7-c042-98deac6159be"
      },
      "source": [
        "from sklearn.metrics import matthews_corrcoef\n",
        "print('Matthews correlation coefficient: %s' % matthews_corrcoef(y_test_binarized, predictions_binarized))"
      ],
      "execution_count": null,
      "outputs": [
        {
          "output_type": "stream",
          "text": [
            "Matthews correlation coefficient: 0.5\n"
          ],
          "name": "stdout"
        }
      ]
    },
    {
      "cell_type": "code",
      "metadata": {
        "colab": {
          "base_uri": "https://localhost:8080/"
        },
        "id": "SqRfRsd4SHwF",
        "outputId": "52511753-064a-4716-c94f-425a58ca16ae"
      },
      "source": [
        "\n",
        "from sklearn.metrics import classification_report\n",
        "print(classification_report(y_test_binarized, predictions_binarized, target_names=['male'], labels=[1]))"
      ],
      "execution_count": null,
      "outputs": [
        {
          "output_type": "stream",
          "text": [
            "              precision    recall  f1-score   support\n",
            "\n",
            "        male       1.00      0.50      0.67         2\n",
            "\n",
            "   micro avg       1.00      0.50      0.67         2\n",
            "   macro avg       1.00      0.50      0.67         2\n",
            "weighted avg       1.00      0.50      0.67         2\n",
            "\n"
          ],
          "name": "stdout"
        }
      ]
    }
  ]
}